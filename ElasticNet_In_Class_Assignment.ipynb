{
  "nbformat": 4,
  "nbformat_minor": 0,
  "metadata": {
    "colab": {
      "provenance": [],
      "collapsed_sections": [],
      "authorship_tag": "ABX9TyNQTgnIhYxdIQTN8u35IekO",
      "include_colab_link": true
    },
    "kernelspec": {
      "name": "python3",
      "display_name": "Python 3"
    },
    "language_info": {
      "name": "python"
    }
  },
  "cells": [
    {
      "cell_type": "markdown",
      "metadata": {
        "id": "view-in-github",
        "colab_type": "text"
      },
      "source": [
        "<a href=\"https://colab.research.google.com/github/yankikalfa/SAIS-ML-for-Finance/blob/main/ElasticNet_In_Class_Assignment.ipynb\" target=\"_parent\"><img src=\"https://colab.research.google.com/assets/colab-badge.svg\" alt=\"Open In Colab\"/></a>"
      ]
    },
    {
      "cell_type": "markdown",
      "source": [
        "# Elastic Net Forecasts\n",
        "This in-class assignment builds off of the codes we have been using up until now. Today, we saw how to generate recursive forecasts with LASSO and Ridge. We saw that the LASSO with a $\\lambda=1$ sets all coefficients to zero, and only picks a constant. On the other hand Ridge models aggresively shrinks coefficients toward zero.\n",
        "\n",
        "The goal of this assignment is to guide you through an Elastic Net Forecast where we combine LASSO and Ridge penalties.\n",
        "\n",
        "## Instructions:\n",
        "\n",
        "1. Dowload the Scikit Learn library and other necessary libraries\n",
        "2. Dowload and read the Goyal Welch dataset\n",
        "3. Write a function that recursively forecasts Excess Returns\n",
        "  * Make sure the function is flexible\n",
        "  * Make sure the function scales the feature space correctly\n",
        "  * Get one set of forecasts with $\\lambda=1$\n",
        "  * Get one set of forecasts with $\\lambda= 10^{-5}$\n",
        "  * Keep track of:\n",
        "    * Forecasts\n",
        "    * In Sample RMSE\n",
        "    * Coefficients\n",
        "    * Out of Sample RMSE\n",
        "    * $R^2$\n",
        "4. Plot the set of forecasts against the actual\n",
        "5. Comment on In Sample Performance (RMSE, $R^2$)\n",
        "6. Comment on Out of Sample Performance (OOS RMSE)\n",
        "7. Comment on choice of $\\lambda$\n",
        "8. Which model would you choose?\n",
        "\n",
        "\n",
        "Start the forecasting exercise at index=500\n"
      ],
      "metadata": {
        "id": "gywC1klAPfFb"
      }
    },
    {
      "cell_type": "markdown",
      "source": [
        "## Libraries"
      ],
      "metadata": {
        "id": "1UmkdtAkPRRu"
      }
    },
    {
      "cell_type": "code",
      "execution_count": null,
      "metadata": {
        "id": "-Qs6tlmKG3vJ"
      },
      "outputs": [],
      "source": [
        "import pandas as pd\n",
        "import numpy as np\n",
        "import matplotlib.pyplot as plt\n",
        "from sklearn.linear_model import ElasticNet\n",
        "from sklearn.preprocessing import MinMaxScaler\n",
        "from sklearn.metrics import mean_squared_error\n",
        "from sklearn.metrics import r2_score\n",
        "import warnings\n",
        "warnings.filterwarnings(\"ignore\")\n",
        "plt.style.use('bmh')\n",
        "plt.rcParams[\"figure.figsize\"] = (16,8)"
      ]
    },
    {
      "cell_type": "markdown",
      "source": [
        "## Data and Pre-Process"
      ],
      "metadata": {
        "id": "vyaXuRvXTJ54"
      }
    },
    {
      "cell_type": "code",
      "source": [
        "# Your code goes here:"
      ],
      "metadata": {
        "id": "h8PRV9E4d0yD"
      },
      "execution_count": null,
      "outputs": []
    },
    {
      "cell_type": "markdown",
      "source": [
        "## Forecasting Function to Recursively Forecast Excess Return"
      ],
      "metadata": {
        "id": "zDq__qwCT-PZ"
      }
    },
    {
      "cell_type": "code",
      "source": [
        "# Your code goes here"
      ],
      "metadata": {
        "id": "xuzK97B8d4LS"
      },
      "execution_count": null,
      "outputs": []
    },
    {
      "cell_type": "markdown",
      "source": [
        "## Call Function"
      ],
      "metadata": {
        "id": "bzOzlK05d70B"
      }
    },
    {
      "cell_type": "code",
      "source": [
        "# Your code goes here"
      ],
      "metadata": {
        "id": "oClygCKxeGRc"
      },
      "execution_count": null,
      "outputs": []
    },
    {
      "cell_type": "markdown",
      "source": [
        "## Forecast Comparison Plots"
      ],
      "metadata": {
        "id": "or85bCEId-d_"
      }
    },
    {
      "cell_type": "code",
      "source": [
        "# Your code goes here"
      ],
      "metadata": {
        "id": "cyAJxCRpeISE"
      },
      "execution_count": null,
      "outputs": []
    },
    {
      "cell_type": "markdown",
      "source": [
        "## In Sample RMSE and $R^2$ Plots"
      ],
      "metadata": {
        "id": "kBpCa3IYeL1q"
      }
    },
    {
      "cell_type": "code",
      "source": [
        "# Your code goes here"
      ],
      "metadata": {
        "id": "F2ZXoVIleRLi"
      },
      "execution_count": null,
      "outputs": []
    },
    {
      "cell_type": "markdown",
      "source": [
        "## Out of Sample RMSE"
      ],
      "metadata": {
        "id": "ZHRx7zO0ehYG"
      }
    },
    {
      "cell_type": "code",
      "source": [
        "# Your code goes here"
      ],
      "metadata": {
        "id": "BO2P8vefekdt"
      },
      "execution_count": null,
      "outputs": []
    },
    {
      "cell_type": "markdown",
      "source": [
        "## Text Answers"
      ],
      "metadata": {
        "id": "98dzWOireo7y"
      }
    }
  ]
}