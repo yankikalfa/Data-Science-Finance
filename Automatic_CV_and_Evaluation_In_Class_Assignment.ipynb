{
  "nbformat": 4,
  "nbformat_minor": 0,
  "metadata": {
    "colab": {
      "provenance": [],
      "collapsed_sections": [],
      "authorship_tag": "ABX9TyMUER/lY5+eoDpGANR2Slt6",
      "include_colab_link": true
    },
    "kernelspec": {
      "name": "python3",
      "display_name": "Python 3"
    },
    "language_info": {
      "name": "python"
    }
  },
  "cells": [
    {
      "cell_type": "markdown",
      "metadata": {
        "id": "view-in-github",
        "colab_type": "text"
      },
      "source": [
        "<a href=\"https://colab.research.google.com/github/yankikalfa/SAIS-ML-for-Finance/blob/main/Automatic_CV_and_Evaluation_In_Class_Assignment.ipynb\" target=\"_parent\"><img src=\"https://colab.research.google.com/assets/colab-badge.svg\" alt=\"Open In Colab\"/></a>"
      ]
    },
    {
      "cell_type": "markdown",
      "source": [
        "#In-Class Assignment: Automatic CV and Evaluation \n",
        "\n",
        "The purpose of this assignment is to create a complete forecasting pipeline using Linear and Non-Linear ML methods. You will write two functions that recursively forecasts excess returns and keep track of coefficients and optimal hyperparameters.\n",
        "\n",
        "The first function will include linear ML methods, the second function needs to include tree-based methods.\n",
        "\n",
        "## Objectives:\n",
        "* Write a function that forecasts excess returns using automatic time series cross validation for ELastic Net.\n",
        "* Write a function that forecasts excess returns using automatic time series cross validation for Random Forests with Randomized Search Cross Validation.\n",
        "* Recursively forecast Excess Returns for the past 10 years\n",
        "  * Using Elastic Net\n",
        "  * Using Random Forest\n",
        "* Use 5 fold time series cross validation to tune hyperparameters\n",
        "* Chart hyperparameters selected at each point\n",
        "* Chart coefficients selected at each point\n",
        "* Compare your forecasts agains the prevailing mean benchmark\n",
        "* Run Dibeold Mariano tests\n",
        "* Chart Out of Sample $R^2\n",
        "* Chart Cumulative change in SSE \n",
        "\n",
        "## Hyperparameters:\n",
        "### Elastic Net\n",
        "* $\\alpha \\in \\{0.00001,0.1\\}$\n",
        "* Number of $\\alpha$ = 1000\n",
        "* $\\rho=0.5$\n",
        "\n",
        "### Random Forest\n",
        "* Criterion: Mean Squared Error\n",
        "* Number of parallel trees: [100,300,500]\n",
        "* Max Depth: [5,10,20]\n",
        "* Max features at nodes: [sqrt, 0.3] \n",
        "\n",
        "\n",
        "\n"
      ],
      "metadata": {
        "id": "nADdRGwe3a1T"
      }
    },
    {
      "cell_type": "markdown",
      "source": [
        "# Libraries and Data"
      ],
      "metadata": {
        "id": "4ARiXCT7xwrx"
      }
    },
    {
      "cell_type": "code",
      "source": [
        "! pip install statsmodels -U"
      ],
      "metadata": {
        "colab": {
          "base_uri": "https://localhost:8080/"
        },
        "id": "7t_7rAlt7BQg",
        "outputId": "8134562d-36af-4516-a007-361178f65e95"
      },
      "execution_count": null,
      "outputs": [
        {
          "output_type": "stream",
          "name": "stdout",
          "text": [
            "Looking in indexes: https://pypi.org/simple, https://us-python.pkg.dev/colab-wheels/public/simple/\n",
            "Requirement already satisfied: statsmodels in /usr/local/lib/python3.7/dist-packages (0.10.2)\n",
            "Collecting statsmodels\n",
            "  Downloading statsmodels-0.13.2-cp37-cp37m-manylinux_2_17_x86_64.manylinux2014_x86_64.whl (9.8 MB)\n",
            "\u001b[K     |████████████████████████████████| 9.8 MB 5.3 MB/s \n",
            "\u001b[?25hRequirement already satisfied: patsy>=0.5.2 in /usr/local/lib/python3.7/dist-packages (from statsmodels) (0.5.2)\n",
            "Requirement already satisfied: numpy>=1.17 in /usr/local/lib/python3.7/dist-packages (from statsmodels) (1.21.6)\n",
            "Requirement already satisfied: pandas>=0.25 in /usr/local/lib/python3.7/dist-packages (from statsmodels) (1.3.5)\n",
            "Requirement already satisfied: packaging>=21.3 in /usr/local/lib/python3.7/dist-packages (from statsmodels) (21.3)\n",
            "Requirement already satisfied: scipy>=1.3 in /usr/local/lib/python3.7/dist-packages (from statsmodels) (1.4.1)\n",
            "Requirement already satisfied: pyparsing!=3.0.5,>=2.0.2 in /usr/local/lib/python3.7/dist-packages (from packaging>=21.3->statsmodels) (3.0.9)\n",
            "Requirement already satisfied: python-dateutil>=2.7.3 in /usr/local/lib/python3.7/dist-packages (from pandas>=0.25->statsmodels) (2.8.2)\n",
            "Requirement already satisfied: pytz>=2017.3 in /usr/local/lib/python3.7/dist-packages (from pandas>=0.25->statsmodels) (2022.1)\n",
            "Requirement already satisfied: six in /usr/local/lib/python3.7/dist-packages (from patsy>=0.5.2->statsmodels) (1.15.0)\n",
            "Installing collected packages: statsmodels\n",
            "  Attempting uninstall: statsmodels\n",
            "    Found existing installation: statsmodels 0.10.2\n",
            "    Uninstalling statsmodels-0.10.2:\n",
            "      Successfully uninstalled statsmodels-0.10.2\n",
            "Successfully installed statsmodels-0.13.2\n"
          ]
        }
      ]
    },
    {
      "cell_type": "code",
      "source": [
        "import pandas as pd\n",
        "import numpy as np\n",
        "import statsmodels.api as sm\n",
        "import matplotlib.pyplot as plt\n",
        "import statsmodels.formula.api as smf\n",
        "from sklearn.linear_model import LassoCV, ElasticNetCV\n",
        "from sklearn.preprocessing import MinMaxScaler\n",
        "from sklearn.model_selection import TimeSeriesSplit, RandomizedSearchCV\n",
        "from sklearn.ensemble import RandomForestRegressor, GradientBoostingRegressor\n",
        "from sklearn.metrics import r2_score, mean_squared_error\n",
        "import warnings\n",
        "warnings.filterwarnings(\"ignore\")\n",
        "plt.style.use('bmh')\n",
        "plt.rcParams[\"figure.figsize\"] = (16,8)"
      ],
      "metadata": {
        "id": "sV90BcvP7B7j"
      },
      "execution_count": null,
      "outputs": []
    },
    {
      "cell_type": "code",
      "source": [
        "df = pd.read_csv('GWdata.csv')\n",
        "df['yyyymm'] = pd.to_datetime(df['yyyymm'],format='%Y%m', errors='coerce')\n",
        "df.set_index('yyyymm',inplace=True)\n",
        "df['er'] = df['CRSP_SPvw'] - df['Rfree']\n",
        "df.drop(['CRSP_SPvw','Rfree','Index'],axis=1,inplace=True)\n",
        "Y = df.loc['1927-01-01':,'er'].reset_index(drop=True)\n",
        "X = df.loc[:'2021-11-01', df.columns!='er'].reset_index(drop=True)"
      ],
      "metadata": {
        "id": "YDFEtxqL7EFd"
      },
      "execution_count": null,
      "outputs": []
    },
    {
      "cell_type": "markdown",
      "source": [
        "# Forecasting Functions"
      ],
      "metadata": {
        "id": "Id1Eu5yTxy3y"
      }
    },
    {
      "cell_type": "code",
      "source": [
        "#Your code  here"
      ],
      "metadata": {
        "id": "Gqv-wAD6TKv9"
      },
      "execution_count": null,
      "outputs": []
    },
    {
      "cell_type": "markdown",
      "source": [
        "# Model Evaluation"
      ],
      "metadata": {
        "id": "fXw8hmyfyI-9"
      }
    },
    {
      "cell_type": "markdown",
      "source": [
        "## Elastic Net"
      ],
      "metadata": {
        "id": "8w3P0c8vyKjt"
      }
    },
    {
      "cell_type": "markdown",
      "source": [
        "### Graph of Lambda"
      ],
      "metadata": {
        "id": "ix3boJ3yyPOC"
      }
    },
    {
      "cell_type": "code",
      "source": [
        "# Your code here"
      ],
      "metadata": {
        "id": "MhKyjw3xTS-i"
      },
      "execution_count": null,
      "outputs": []
    },
    {
      "cell_type": "markdown",
      "source": [
        "### Graph of Coefficients with Lambda"
      ],
      "metadata": {
        "id": "HsuQk9y3ySBM"
      }
    },
    {
      "cell_type": "code",
      "source": [
        "# Your code here"
      ],
      "metadata": {
        "id": "h2YvHMNTTWek"
      },
      "execution_count": null,
      "outputs": []
    },
    {
      "cell_type": "code",
      "source": [
        "# Your code here"
      ],
      "metadata": {
        "id": "JbKRuAolTXCj"
      },
      "execution_count": null,
      "outputs": []
    },
    {
      "cell_type": "markdown",
      "source": [
        "## Random Forests"
      ],
      "metadata": {
        "id": "bvPUrOLDyVR-"
      }
    },
    {
      "cell_type": "code",
      "source": [
        "# Your code here"
      ],
      "metadata": {
        "id": "wY6hdw3ITY52"
      },
      "execution_count": null,
      "outputs": []
    },
    {
      "cell_type": "markdown",
      "source": [
        "### Graph of Hyperparameters for Random Forest"
      ],
      "metadata": {
        "id": "AbNHF1rfyXsZ"
      }
    },
    {
      "cell_type": "code",
      "source": [
        "# Your code here"
      ],
      "metadata": {
        "id": "6z9mo_WvTbmu"
      },
      "execution_count": null,
      "outputs": []
    },
    {
      "cell_type": "markdown",
      "source": [
        "### Feature Importance Graphs for Random Forests"
      ],
      "metadata": {
        "id": "FLGoqolDydRo"
      }
    },
    {
      "cell_type": "code",
      "source": [
        "# Your code here"
      ],
      "metadata": {
        "id": "S71ffVTSTe_g"
      },
      "execution_count": null,
      "outputs": []
    },
    {
      "cell_type": "markdown",
      "source": [
        "### What are the 3 most important features according to the Random Forest?\n"
      ],
      "metadata": {
        "id": "1cun_2PmxhIH"
      }
    },
    {
      "cell_type": "markdown",
      "source": [
        "Answer here:"
      ],
      "metadata": {
        "id": "kawN8sgkThfk"
      }
    },
    {
      "cell_type": "markdown",
      "source": [
        "# Benchmarking"
      ],
      "metadata": {
        "id": "mvNa6TwWynQJ"
      }
    },
    {
      "cell_type": "code",
      "source": [
        "# Your code here"
      ],
      "metadata": {
        "id": "AiU0JFjDTjxy"
      },
      "execution_count": null,
      "outputs": []
    },
    {
      "cell_type": "markdown",
      "source": [
        "# Forecast Evaluation"
      ],
      "metadata": {
        "id": "eIizUTKVzHRR"
      }
    },
    {
      "cell_type": "code",
      "source": [
        "# Your code here"
      ],
      "metadata": {
        "id": "B8Wq03FpTlIq"
      },
      "execution_count": null,
      "outputs": []
    },
    {
      "cell_type": "markdown",
      "source": [
        "## Forecast Comparison Graph"
      ],
      "metadata": {
        "id": "U7kullDTzVxt"
      }
    },
    {
      "cell_type": "code",
      "source": [
        "# Your code here"
      ],
      "metadata": {
        "id": "NL9OvascTmRE"
      },
      "execution_count": null,
      "outputs": []
    },
    {
      "cell_type": "markdown",
      "source": [
        "## Forecast Error Comparison"
      ],
      "metadata": {
        "id": "quzRgO4AzioC"
      }
    },
    {
      "cell_type": "code",
      "source": [
        "# Your code here"
      ],
      "metadata": {
        "id": "U9XumwS0Tnau"
      },
      "execution_count": null,
      "outputs": []
    },
    {
      "cell_type": "markdown",
      "source": [
        "## Diebold Mariano Test"
      ],
      "metadata": {
        "id": "gsZXA-Nfzspy"
      }
    },
    {
      "cell_type": "code",
      "source": [
        "# Your code here"
      ],
      "metadata": {
        "id": "9pBlAO_cTotr"
      },
      "execution_count": null,
      "outputs": []
    },
    {
      "cell_type": "markdown",
      "source": [
        "### Does the ENET beat the Prevailing Mean?"
      ],
      "metadata": {
        "id": "AGhLaN_cz1C2"
      }
    },
    {
      "cell_type": "markdown",
      "source": [
        "Answer here:"
      ],
      "metadata": {
        "id": "PMEM1nHjz_1Y"
      }
    },
    {
      "cell_type": "code",
      "source": [
        "# Your code here"
      ],
      "metadata": {
        "id": "SpLAloPXzxge"
      },
      "execution_count": null,
      "outputs": []
    },
    {
      "cell_type": "markdown",
      "source": [
        "### Does the Random Forest beat the Prevailing Mean?"
      ],
      "metadata": {
        "id": "-Lf9n31_0Z-S"
      }
    },
    {
      "cell_type": "markdown",
      "source": [
        "Answer here:\n",
        "\n"
      ],
      "metadata": {
        "id": "uKS8451V0dmE"
      }
    },
    {
      "cell_type": "markdown",
      "source": [
        "## OoS $R^2$"
      ],
      "metadata": {
        "id": "RQeFkmiM0ymC"
      }
    },
    {
      "cell_type": "markdown",
      "source": [
        "Compute out of sample $R^2$ values for Elastic Net and Random Forest:"
      ],
      "metadata": {
        "id": "KPJnlZ1G1BKt"
      }
    },
    {
      "cell_type": "code",
      "source": [
        "# Your code here"
      ],
      "metadata": {
        "id": "_gjXGxkn0dVJ"
      },
      "execution_count": null,
      "outputs": []
    },
    {
      "cell_type": "code",
      "source": [
        "# Your code here"
      ],
      "metadata": {
        "id": "b4Yi6O4U0V4U"
      },
      "execution_count": null,
      "outputs": []
    },
    {
      "cell_type": "markdown",
      "source": [
        "Comment on the OoS$R^2$ values of both Random Forest and Elastic Net. Compare your results to the DM test"
      ],
      "metadata": {
        "id": "5L_NLvXJ1K9q"
      }
    },
    {
      "cell_type": "markdown",
      "source": [
        "Answer here:\n"
      ],
      "metadata": {
        "id": "FCeZussj3Cz8"
      }
    },
    {
      "cell_type": "markdown",
      "source": [
        "## Cumulative $\\Delta$ SSE "
      ],
      "metadata": {
        "id": "wPOuaT2jGhKx"
      }
    },
    {
      "cell_type": "code",
      "source": [
        "# Your code here"
      ],
      "metadata": {
        "id": "njhdfFgg3Aad"
      },
      "execution_count": null,
      "outputs": []
    },
    {
      "cell_type": "code",
      "source": [
        "# Your code here"
      ],
      "metadata": {
        "id": "o0EPzQ60GrE4"
      },
      "execution_count": null,
      "outputs": []
    },
    {
      "cell_type": "code",
      "source": [
        "# Your code here"
      ],
      "metadata": {
        "id": "RU1r0OXmGsgf"
      },
      "execution_count": null,
      "outputs": []
    }
  ]
}