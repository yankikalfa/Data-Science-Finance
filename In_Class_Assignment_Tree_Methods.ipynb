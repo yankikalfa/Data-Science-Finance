{
  "nbformat": 4,
  "nbformat_minor": 0,
  "metadata": {
    "colab": {
      "provenance": [],
      "collapsed_sections": [],
      "authorship_tag": "ABX9TyM2ZgKDJu7qmqg5GyFkfeBu",
      "include_colab_link": true
    },
    "kernelspec": {
      "name": "python3",
      "display_name": "Python 3"
    },
    "language_info": {
      "name": "python"
    }
  },
  "cells": [
    {
      "cell_type": "markdown",
      "metadata": {
        "id": "view-in-github",
        "colab_type": "text"
      },
      "source": [
        "<a href=\"https://colab.research.google.com/github/yankikalfa/SAIS-ML-for-Finance/blob/main/In_Class_Assignment_Tree_Methods.ipynb\" target=\"_parent\"><img src=\"https://colab.research.google.com/assets/colab-badge.svg\" alt=\"Open In Colab\"/></a>"
      ]
    },
    {
      "cell_type": "markdown",
      "source": [
        "# In Class Assignment: Tree Based Methods\n",
        "## Instructions:\n",
        "1. Download necessary libraries\n",
        "2. Download Goyal Welch Dataset\n",
        "3. Forecast the last 12 months of data\n",
        "  * Do not forget to lag the feature space\n",
        "  * Create a validation set of 12 months\n",
        "  * Tune the Hyperparameters \n",
        "  * Forecast the last 12 months\n",
        "4. Show feature importance graphs\n",
        "5. Plot forecasts against the actual\n",
        "\n",
        "## Hyperparameters:\n",
        "### Decision Trees:\n",
        "* Max Depth : [5,10,20,30]\n",
        "* Min Samples Split: [5,10,50,100,200]\n",
        "* Min Sample Leaf: [1,5,10,100,200] \n",
        "* Complexity Cost Pruning : $\\alpha=[0,0.0001,0.001,0.01,0.1,1]$\n",
        "\n",
        "### Random Forest:\n",
        "* Criterion: Mean Squared Error\n",
        "* Number of parallel trees: [100,300,500]\n",
        "* Max Depth: [5,10,20]\n",
        "* Min Samples Split: [5,10,50,100]\n",
        "* Min Sample Leaf: [1,10,100]\n",
        "* Max features at nodes: [sqrt, 0.3] \n",
        "\n",
        "### Boosted Trees (This takes a while)\n",
        "* Criterion: Mean Squared Error\n",
        "* Loss: Mean Squared Error\n",
        "* Number of sequential trees: [500,1000]\n",
        "* Max Depth: [1,3,5]\n",
        "* Min Samples Split: [5,10,100]\n",
        "* Min Sample Leaf: [1,10,100]\n",
        "* Max features at nodes: [sqrt, 0.3] \n",
        "* Learning Rate: $\\lambda \\in \\{0.001,0.01\\}$\n",
        "\n"
      ],
      "metadata": {
        "id": "sw3umz1h_Bh0"
      }
    },
    {
      "cell_type": "markdown",
      "source": [
        "## Libraries and Data"
      ],
      "metadata": {
        "id": "JCjyH_1RC5sJ"
      }
    },
    {
      "cell_type": "code",
      "source": [
        "import pandas as pd\n",
        "import numpy as np\n",
        "import matplotlib.pyplot as plt\n",
        "from sklearn.tree import DecisionTreeRegressor,export_graphviz\n",
        "from sklearn.ensemble import RandomForestRegressor\n",
        "from sklearn.ensemble import GradientBoostingRegressor\n",
        "from sklearn.preprocessing import MinMaxScaler\n",
        "from sklearn.metrics import mean_squared_error\n",
        "from sklearn.metrics import r2_score\n",
        "from IPython.display import Image\n",
        "\n",
        "import warnings\n",
        "warnings.filterwarnings(\"ignore\")\n",
        "plt.style.use('bmh')\n",
        "plt.rcParams[\"figure.figsize\"] = (16,8)"
      ],
      "metadata": {
        "id": "E9CQVYsTC887"
      },
      "execution_count": null,
      "outputs": []
    },
    {
      "cell_type": "code",
      "source": [
        "df = None\n",
        "df['yyyymm'] = None\n",
        "df.set_index(None)\n",
        "df['er'] = None\n",
        "df.drop([None],axis=1,inplace=True)\n",
        "Y = None\n",
        "X = None"
      ],
      "metadata": {
        "id": "dDZvhQR6DjvJ"
      },
      "execution_count": null,
      "outputs": []
    },
    {
      "cell_type": "code",
      "source": [
        "df.head()"
      ],
      "metadata": {
        "id": "H94-P5CjDnsN"
      },
      "execution_count": null,
      "outputs": []
    },
    {
      "cell_type": "markdown",
      "source": [
        "### Training, Validation, Test"
      ],
      "metadata": {
        "id": "L0bbtHiaD4NN"
      }
    },
    {
      "cell_type": "code",
      "source": [
        "X_train = None"
      ],
      "metadata": {
        "id": "uOABbb6FD7Oh"
      },
      "execution_count": null,
      "outputs": []
    },
    {
      "cell_type": "code",
      "source": [
        "X_val = None"
      ],
      "metadata": {
        "id": "HWGpqOcND7IF"
      },
      "execution_count": null,
      "outputs": []
    },
    {
      "cell_type": "code",
      "source": [
        "X_test = None\n"
      ],
      "metadata": {
        "id": "Q9WKM2CJFLlr"
      },
      "execution_count": null,
      "outputs": []
    },
    {
      "cell_type": "code",
      "source": [
        "X_train_full = None"
      ],
      "metadata": {
        "id": "gAoU4uQ7KOJR"
      },
      "execution_count": null,
      "outputs": []
    },
    {
      "cell_type": "code",
      "source": [
        "y_train = None"
      ],
      "metadata": {
        "id": "riOBbY5SFZ8C"
      },
      "execution_count": null,
      "outputs": []
    },
    {
      "cell_type": "code",
      "source": [
        "y_val=None\n",
        "len(y_val)"
      ],
      "metadata": {
        "id": "hEkVDrGxFj9W"
      },
      "execution_count": null,
      "outputs": []
    },
    {
      "cell_type": "code",
      "source": [
        "y_test=None"
      ],
      "metadata": {
        "id": "yl0VFj9fFxVb"
      },
      "execution_count": null,
      "outputs": []
    },
    {
      "cell_type": "code",
      "source": [
        "y_train_full= None"
      ],
      "metadata": {
        "id": "zLBC4aJ_T8dy"
      },
      "execution_count": null,
      "outputs": []
    },
    {
      "cell_type": "markdown",
      "source": [
        "## Decision Trees\n",
        "\n",
        "https://scikit-learn.org/stable/modules/generated/sklearn.tree.DecisionTreeRegressor.html"
      ],
      "metadata": {
        "id": "217kVaVPCPIl"
      }
    },
    {
      "cell_type": "markdown",
      "source": [
        "### Manual Hyperparameter Search"
      ],
      "metadata": {
        "id": "trnaHqKihtHJ"
      }
    },
    {
      "cell_type": "code",
      "source": [
        "depth=[]\n",
        "splits=[]\n",
        "leaves=[]\n",
        "alpha=[]\n",
        "mse=[]\n",
        "# Write a loop that will search the parameter space"
      ],
      "metadata": {
        "id": "7ya7U7UGWNO6"
      },
      "execution_count": null,
      "outputs": []
    },
    {
      "cell_type": "code",
      "source": [
        "validation_results = None"
      ],
      "metadata": {
        "id": "zYaLg9GHbv4L"
      },
      "execution_count": null,
      "outputs": []
    },
    {
      "cell_type": "code",
      "source": [
        "validation_results.sort_values(by='mse')"
      ],
      "metadata": {
        "id": "rIXHz0B5cMKI"
      },
      "execution_count": null,
      "outputs": []
    },
    {
      "cell_type": "code",
      "source": [
        "validation_results.loc[validation_results['mse']==min(validation_results['mse'])]"
      ],
      "metadata": {
        "id": "pVjz3Wuhd3SB"
      },
      "execution_count": null,
      "outputs": []
    },
    {
      "cell_type": "code",
      "source": [
        "tree_tune = None\n",
        "tree_fit=tree_tune.fit(X_train_full,y_train_full)\n",
        "tree_predict = pd.Series(tree_fit.predict(X_test)).reset_index(drop=True).rename('f_tree_tuned')\n",
        "\n"
      ],
      "metadata": {
        "id": "6bauNJgReaHV"
      },
      "execution_count": null,
      "outputs": []
    },
    {
      "cell_type": "code",
      "source": [
        "actual = pd.Series(y_test).reset_index(drop=True).rename('Actual')"
      ],
      "metadata": {
        "id": "4PN14v3LI3Qd"
      },
      "execution_count": null,
      "outputs": []
    },
    {
      "cell_type": "code",
      "source": [
        "forecasts=pd.concat([actual,tree_predict],axis=1)\n",
        "forecasts.plot()"
      ],
      "metadata": {
        "id": "fVXC2TZPgH3x"
      },
      "execution_count": null,
      "outputs": []
    },
    {
      "cell_type": "markdown",
      "source": [
        "The \"Tuned\" tree has a much better fit"
      ],
      "metadata": {
        "id": "uVKNpSmBgVQS"
      }
    },
    {
      "cell_type": "markdown",
      "source": [
        "## Random Forests"
      ],
      "metadata": {
        "id": "1pfK5qCnh5ov"
      }
    },
    {
      "cell_type": "markdown",
      "source": [
        "### Manual Hyperparameter Search for Random Forest"
      ],
      "metadata": {
        "id": "SrOuc4J_kCS5"
      }
    },
    {
      "cell_type": "code",
      "source": [
        "n_tree=[]\n",
        "depth=[]\n",
        "splits=[]\n",
        "leaves=[]\n",
        "n_feature=[]\n",
        "mse=[]\n",
        "# Write a loop that will search the parameter space\n"
      ],
      "metadata": {
        "id": "hDRWkFv6jQ9Q"
      },
      "execution_count": null,
      "outputs": []
    },
    {
      "cell_type": "code",
      "source": [
        "validation_results = None"
      ],
      "metadata": {
        "id": "o_g8UAxRlLSu"
      },
      "execution_count": null,
      "outputs": []
    },
    {
      "cell_type": "code",
      "source": [
        "validation_results.sort_values(by='mse')"
      ],
      "metadata": {
        "id": "VKZkO_8YlY_L"
      },
      "execution_count": null,
      "outputs": []
    },
    {
      "cell_type": "code",
      "source": [
        "validation_results.loc[validation_results['mse']==min(validation_results['mse'])]"
      ],
      "metadata": {
        "id": "We0KTe2Vll8O"
      },
      "execution_count": null,
      "outputs": []
    },
    {
      "cell_type": "code",
      "source": [
        "rf_tune =None # Fit the Random Forest with the best parameters\n",
        "rf_fit=rf_tune.fit(X_train_full,y_train_full)\n",
        "rf_predict = pd.Series(rf_fit.predict(X_test)).reset_index(drop=True).rename('f_rf_tuned')"
      ],
      "metadata": {
        "id": "Zy1VvshmoM50"
      },
      "execution_count": null,
      "outputs": []
    },
    {
      "cell_type": "code",
      "source": [
        "forecasts=pd.concat([forecasts,rf_predict],axis=1)\n",
        "forecasts.plot()"
      ],
      "metadata": {
        "colab": {
          "base_uri": "https://localhost:8080/",
          "height": 71
        },
        "id": "gbm-e0sSoedW",
        "outputId": "af923a35-5048-4877-cfcd-183868fb29c7"
      },
      "execution_count": null,
      "outputs": [
        {
          "output_type": "execute_result",
          "data": {
            "text/plain": [
              "<matplotlib.axes._subplots.AxesSubplot at 0x7f49f504eb10>"
            ]
          },
          "metadata": {},
          "execution_count": 24
        },
        {
          "output_type": "display_data",
          "data": {
            "text/plain": [
              "<Figure size 432x288 with 1 Axes>"
            ],
            "image/png": "[encoded data removed]"
          },
          "metadata": {
            "needs_background": "light"
          }
        }
      ]
    },
    {
      "cell_type": "code",
      "source": [
        "import pandas as pd\n",
        "importances= rf_fit.feature_importances_\n",
        "forest_importances = pd.Series(importances, index=X.columns)\n",
        "\n",
        "fig, ax = plt.subplots()\n",
        "forest_importances.plot.bar(ax=ax)\n",
        "ax.set_title(\"Feature importances\")\n",
        "ax.set_ylabel(\"Mean decrease in MSE\")\n",
        "fig.tight_layout()"
      ],
      "metadata": {
        "colab": {
          "base_uri": "https://localhost:8080/",
          "height": 54
        },
        "id": "Ui37Tn7hogv4",
        "outputId": "6ec50816-0047-4b04-f9b6-abd23a73dd3d"
      },
      "execution_count": null,
      "outputs": [
        {
          "output_type": "display_data",
          "data": {
            "text/plain": [
              "<Figure size 432x288 with 1 Axes>"
            ],
            "image/png": "[encoded data removed]"
          },
          "metadata": {
            "needs_background": "light"
          }
        }
      ]
    },
    {
      "cell_type": "markdown",
      "source": [
        "## Boosted Trees"
      ],
      "metadata": {
        "id": "yexn2Q-3n8qU"
      }
    },
    {
      "cell_type": "markdown",
      "source": [
        "### Manual Search"
      ],
      "metadata": {
        "id": "UOtMFKvFyzPS"
      }
    },
    {
      "cell_type": "code",
      "source": [
        "n_tree=[]\n",
        "depth=[]\n",
        "splits=[]\n",
        "leaves=[]\n",
        "n_feature=[]\n",
        "learn=[]\n",
        "mse=[]\n",
        "# Write a loop that will search the parameter space"
      ],
      "metadata": {
        "id": "XH5KOn7FyXXh"
      },
      "execution_count": null,
      "outputs": []
    },
    {
      "cell_type": "code",
      "source": [
        "validation_results = None"
      ],
      "metadata": {
        "id": "TAl3eDu9z-4N"
      },
      "execution_count": null,
      "outputs": []
    },
    {
      "cell_type": "code",
      "source": [
        "validation_results.loc[validation_results['mse']==min(validation_results['mse'])]"
      ],
      "metadata": {
        "id": "Sftayf4Z6PB9"
      },
      "execution_count": null,
      "outputs": []
    },
    {
      "cell_type": "code",
      "source": [
        "bt_tune = None # Fit the boosted trees with the best parameters\n",
        "bt_fit=bt_tune.fit(X_train_full,y_train_full)\n",
        "bt_predict = pd.Series(bt_fit.predict(X_test)).reset_index(drop=True).rename('f_bt_tuned')"
      ],
      "metadata": {
        "id": "vRZSUY5A8653"
      },
      "execution_count": null,
      "outputs": []
    },
    {
      "cell_type": "code",
      "source": [
        "forecasts=pd.concat([forecasts,bt_predict],axis=1)"
      ],
      "metadata": {
        "id": "f_67kQS29Qr6"
      },
      "execution_count": null,
      "outputs": []
    },
    {
      "cell_type": "code",
      "source": [
        "forecasts"
      ],
      "metadata": {
        "id": "kfKBrvVx9k0H"
      },
      "execution_count": null,
      "outputs": []
    },
    {
      "cell_type": "code",
      "source": [
        "forecasts['e_tree']= forecasts['Actual']-forecasts['f_tree_tuned']\n",
        "forecasts['e_rf']= forecasts['Actual']-forecasts['f_rf_tuned']\n",
        "forecasts['e_bt']= forecasts['Actual']-forecasts['f_bt_tuned']"
      ],
      "metadata": {
        "id": "YZaxkr-LCSrK"
      },
      "execution_count": null,
      "outputs": []
    },
    {
      "cell_type": "code",
      "source": [
        "forecasts.set_index(df.loc['2021'].index.copy(),inplace=True)"
      ],
      "metadata": {
        "id": "PBJea2Rv3O4e"
      },
      "execution_count": null,
      "outputs": []
    },
    {
      "cell_type": "code",
      "source": [
        "plt.plot(forecasts['Actual'],label='Actual')\n",
        "plt.plot(forecasts['f_tree_tuned'],label='Tree')\n",
        "plt.plot(forecasts['f_rf_tuned'],label='Random Forest')\n",
        "plt.plot(forecasts['f_bt_tuned'],label='Boosted Trees')\n",
        "plt.title('Forecast Comparison')\n",
        "plt.legend()\n",
        "\n"
      ],
      "metadata": {
        "id": "FsNyJdGR3wIB"
      },
      "execution_count": null,
      "outputs": []
    },
    {
      "cell_type": "code",
      "source": [
        "plt.plot(forecasts['e_tree'],label='Tree')\n",
        "plt.plot(forecasts['e_rf'],label='Random Forest')\n",
        "plt.plot(forecasts['e_bt'],label='Boosted Trees')\n",
        "plt.title('Forecast Error Comparison')\n",
        "plt.legend()"
      ],
      "metadata": {
        "id": "IVPBNhz_4EHy"
      },
      "execution_count": null,
      "outputs": []
    },
    {
      "cell_type": "markdown",
      "source": [
        "## MSE Comparison"
      ],
      "metadata": {
        "id": "1wgPYg6L44hX"
      }
    },
    {
      "cell_type": "code",
      "source": [
        "round(mean_squared_error(forecasts['Actual'],forecasts['f_tree_tuned']),4)\n"
      ],
      "metadata": {
        "id": "JpRMaxS04Xyh"
      },
      "execution_count": null,
      "outputs": []
    },
    {
      "cell_type": "code",
      "source": [
        "round(mean_squared_error(forecasts['Actual'],forecasts['f_rf_tuned']),4)"
      ],
      "metadata": {
        "id": "VAAFh7oi4k93"
      },
      "execution_count": null,
      "outputs": []
    },
    {
      "cell_type": "code",
      "source": [
        "round(mean_squared_error(forecasts['Actual'],forecasts['f_bt_tuned']),4)"
      ],
      "metadata": {
        "id": "o30Pf63r4uxE"
      },
      "execution_count": null,
      "outputs": []
    },
    {
      "cell_type": "markdown",
      "source": [
        "#Which model is best according to MSE?\n",
        "# Write your answer here"
      ],
      "metadata": {
        "id": "7PyIrWWXVMJA"
      }
    }
  ]
}